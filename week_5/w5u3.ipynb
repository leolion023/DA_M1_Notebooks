{
 "cells": [
  {
   "cell_type": "markdown",
   "metadata": {},
   "source": [
    "# Adding parameters to functions\n",
    "\n",
    "## Motivation\n",
    "\n",
    "In the previous units you have seen that you can use functions with parameters. There are cases, where no parameter is\n",
    "needed in a function, for example a function for some kind of greeting, which should always be the same. Or a function\n",
    "which will write the current time in a predefined format to a terminal or a log.\n",
    "\n",
    "Parameters, however make it possible to customize these functions to your need. In case of the above examples, you could\n",
    "add a name to the greeting to personalize it or use a parameter in the *current time*-function to change the formatting\n",
    "of the output, e.g. 24h/12h format.  \n",
    "\n",
    "Parameters make it possible to *reuse* a function for different inputs and do the same operation on different values.\n",
    "\n",
    "## Using parameters\n",
    "\n",
    "A function has an optional parameter list. This means that a function has either:\n",
    "- no parameter\n",
    "- one parameter\n",
    "- multiple parameters\n",
    "\n",
    "The following cell contains examples of functions with different parameter lists.  "
   ]
  },
  {
   "cell_type": "code",
   "execution_count": null,
   "metadata": {},
   "outputs": [],
   "source": [
    "def the_answer_to_everything():\n",
    "    return 42\n",
    "\n",
    "\n",
    "print(\n",
    "    \"What is the Answer to Life, The Universe, and Everything?\",\n",
    "    the_answer_to_everything(),\n",
    ")\n",
    "\n",
    "\n",
    "def sum(a, b):\n",
    "    return a + b\n",
    "\n",
    "\n",
    "print(\"What is the sum of 39 and 3?\", sum(39, 3))"
   ]
  },
  {
   "cell_type": "markdown",
   "metadata": {},
   "source": [
    "## Exercise\n",
    "\n",
    "Now it is your turn. Write a Python function that checks whether a given string is a\n",
    "[palindrome](https://en.wikipedia.org/wiki/Palindrome).  Examples of palindromes are Anna, Otto, racecar or 24742. So\n",
    "palindromes are words or phrases that read the same backward and forward.\n",
    "\n",
    "The return value of your function should simply be `True` or `False`, depending on whether the string passed as a\n",
    "parameter is a palindrome or not. Note that there are several approaches to solve this exercise. You could, for example, use \n",
    "a for loop (more complex) or slicing to solve the exercise."
   ]
  },
  {
   "cell_type": "code",
   "execution_count": 12,
   "metadata": {},
   "outputs": [
    {
     "name": "stdout",
     "output_type": "stream",
     "text": [
      "hannah in reverse is hannah.\n",
      "Is your word a palindrome? True\n"
     ]
    }
   ],
   "source": [
    "def palindrome_check():\n",
    "    word = input(\"What word would you like to check is a palidrome? \")\n",
    "    word = word.lower()\n",
    "    word_2 = \"\"\n",
    "    position = -1\n",
    "    for letter in word:\n",
    "       word_2 = word_2 + word[position]\n",
    "       position -= 1\n",
    "    print(f\"{word} in reverse is {word_2}.\")\n",
    "    if word == word_2:\n",
    "        return True\n",
    "    else:\n",
    "        return False\n",
    "\n",
    "    \n",
    "print(\"Is your word a palindrome?\", palindrome_check())\n"
   ]
  },
  {
   "cell_type": "markdown",
   "metadata": {},
   "source": [
    "# Default Values \n",
    "It is also possible to define default values for parameters. These default values are used if no value is passed for a\n",
    "parameter upon calling the function.\n",
    "\n",
    "The following example shows a function for multiplying a number by a certain factor. The parameter factor is set to the\n",
    "default value `2`. The function can now be called with or without passing the parameter factor."
   ]
  },
  {
   "cell_type": "code",
   "execution_count": null,
   "metadata": {},
   "outputs": [],
   "source": [
    "def multiply_with_factor(number, factor=2):\n",
    "    return number * factor\n",
    "\n",
    "\n",
    "print(multiply_with_factor(5))\n",
    "print(multiply_with_factor(5, 3))"
   ]
  },
  {
   "cell_type": "markdown",
   "metadata": {},
   "source": [
    "So far, functions in our examples have been called by passing parameters according to the order of the parameter list.\n",
    "But Python also offers the possibility to address particular parameters using their names. \n",
    "\n",
    "Addressing function parameters using their names makes especially sense if it is combined with standard values. A good\n",
    "example for this are the parameters of the `print()` function already mentioned. You can access the `docstring` of\n",
    "functions in Jupyter Notebooks pretty easily by entering the function name (without brackets!) followed by a \"?\" into a\n",
    "cell and executing it:"
   ]
  },
  {
   "cell_type": "code",
   "execution_count": null,
   "metadata": {},
   "outputs": [],
   "source": [
    "print?"
   ]
  },
  {
   "cell_type": "markdown",
   "metadata": {},
   "source": [
    "In the [Python Standard library](https://docs.python.org/3/library/functions.html#print) it is defined as\n",
    "follows:\n",
    "\n",
    "```\n",
    "print(* objects, sep = ' ', end = '\\n', file = sys.stdout, flush = False)\n",
    "```\n",
    "\n",
    "The `print()`function defines the parameters `sep` and `end`, with the default values `' '` and `'\\n'` respectively. For\n",
    "now, we are ignoring the other parameters.  \n",
    "Using the parameter `sep` we can provide a different separator for the parameters of the `print()` function.  \n",
    "Using the `end` parameter, we can provide a different value to end the line (instead of the\n",
    "[newline](https://en.wikipedia.org/wiki/Newline) escape sequence). Of course, it's also possible to combine both."
   ]
  },
  {
   "cell_type": "code",
   "execution_count": null,
   "metadata": {},
   "outputs": [],
   "source": [
    "print(\"Happy\", \"Python\", \"programming\")\n",
    "print(\"Happy\", \"Python\", \"programming\", sep=\" 🐍 \")\n",
    "\n",
    "print(\"Happy\", \"Python\", \"programming\", end=\" 👍\")\n",
    "print()\n",
    "print(\"Happy\", \"Python\", \"programming\", end=\" 👍\", sep=\" 🐍 \")"
   ]
  },
  {
   "cell_type": "markdown",
   "metadata": {},
   "source": [
    "# Appendix: Escape characters\n",
    "To be able to display some special characters in Python, there are so-called\n",
    "[escape characters](https://docs.python.org/3/reference/lexical_analysis.html#string-and-bytes-literals).\n",
    "These are introduced with a backslash `\\` and have special\n",
    "[meanings]((https://www.w3schools.com/python/gloss_python_escape_characters.asp)) (table not complete):\n",
    "\n",
    "| Character | Meaning              |\n",
    "| --------- | -------------------- |\n",
    "| `\\n`      | Line break, new line |\n",
    "| `\\t`      | Tabulator            |\n",
    "| `\\\"`      | Quotation mark       |\n",
    "\n",
    "A short addition to the last entry in the table: If you want to make a quotation mark in a string, you can use this.\n",
    "\n",
    "Quiz question: Why is the `0` of the second loop placed behind the numbers of the first loop? How can this be changed?"
   ]
  },
  {
   "cell_type": "code",
   "execution_count": null,
   "metadata": {},
   "outputs": [],
   "source": [
    "for i in range(5):\n",
    "    print(i, end=\" \")\n",
    "\n",
    "for i in range(5):\n",
    "    print(i, end=\"\\n\\n\")"
   ]
  },
  {
   "cell_type": "markdown",
   "metadata": {},
   "source": [
    "## Exercise 1: Factorial\n",
    "In mathematics, the factorial of a non-negative integer `n`, denoted by `n!`  is the product of all positive integers less than or equal to `n` (cf. [Wikipedia: Factorial](https://en.wikipedia.org/wiki/Factorial)). For example:\n",
    "\n",
    "```\n",
    "    5! = 1 * 2 * 3 * 4 * 5 = 120\n",
    "    3! = 1 * 2 * 3 = 6\n",
    "    1! = 1\n",
    "```\n",
    "Implement a function called `fac`, which gets an integer `n` as the input parameter and returns the factorial of `n`. Then, in a second cell, ask for an integer and call the function `fac` with this integer as an argument. Output the return value of `fac` using the `print()`."
   ]
  },
  {
   "cell_type": "code",
   "execution_count": 20,
   "metadata": {},
   "outputs": [
    {
     "name": "stdout",
     "output_type": "stream",
     "text": [
      "5! = 120\n"
     ]
    }
   ],
   "source": [
    "def fac(n):\n",
    "    result = 1\n",
    "    for i in range(1,n+1):\n",
    "        result *= i\n",
    "    return(result)\n",
    "integer = int(input(\"What postitve integer would you like to factorialize? \"))\n",
    "print(f\"{integer}! =\", fac(integer))\n",
    "        "
   ]
  },
  {
   "cell_type": "markdown",
   "metadata": {},
   "source": [
    "## Exercise 2: BMI\n",
    "The Body-Mass-Index (BMI) is a value derived from the weight and the height of a person (cd. [Wikipedia: Body-Mass-Index](https://en.wikipedia.org/wiki/Body_mass_index)). The weight has to be used in `kg`, the height has to be given in `m`. The formula, to calculate the `BMI` is defined as follows: `BMI = kg/m²`. Example:\n",
    "\n",
    "```\n",
    "    weight = 80kg\n",
    "    height = 1.80m\n",
    "    BMI = 80/1.8² = 24.69\n",
    "```\n",
    "\n",
    "Implement a function called `BMI`, which takes two input values namely weight and height, calculates the BMI according to the above formula and returns the result.\n",
    "\n",
    "Get weight and height by the `input()` and output the BMI by `print()`."
   ]
  },
  {
   "cell_type": "code",
   "execution_count": 23,
   "metadata": {},
   "outputs": [
    {
     "name": "stdout",
     "output_type": "stream",
     "text": [
      "Your BMI is:  1.0\n"
     ]
    }
   ],
   "source": [
    "def BMI(w, h):\n",
    "    return w / (h ** 2)\n",
    "weight = float(input(\"What is your weight in kilograms? \"))\n",
    "height = float(input(\"What is your height in meters? \"))\n",
    "print(\"Your BMI is: \", BMI(weight,height))   "
   ]
  },
  {
   "cell_type": "code",
   "execution_count": 29,
   "metadata": {},
   "outputs": [
    {
     "name": "stdout",
     "output_type": "stream",
     "text": [
      "0 is even.\n",
      "1 is not even.\n",
      "2 is even.\n",
      "3 is not even.\n",
      "4 is even.\n",
      "5 is not even.\n",
      "6 is even.\n",
      "7 is not even.\n",
      "8 is even.\n",
      "9 is not even.\n",
      "10 is even.\n",
      "11 is not even.\n",
      "12 is even.\n",
      "13 is not even.\n",
      "14 is even.\n",
      "15 is not even.\n",
      "16 is even.\n",
      "17 is not even.\n",
      "18 is even.\n",
      "19 is not even.\n",
      "20 is even.\n",
      "21 is not even.\n",
      "22 is even.\n",
      "23 is not even.\n",
      "24 is even.\n",
      "25 is not even.\n",
      "26 is even.\n",
      "27 is not even.\n",
      "28 is even.\n",
      "29 is not even.\n",
      "30 is even.\n",
      "31 is not even.\n",
      "32 is even.\n",
      "33 is not even.\n",
      "34 is even.\n",
      "35 is not even.\n",
      "36 is even.\n",
      "37 is not even.\n",
      "38 is even.\n",
      "39 is not even.\n",
      "40 is even.\n",
      "41 is not even.\n",
      "42 is even.\n",
      "43 is not even.\n",
      "44 is even.\n",
      "45 is not even.\n",
      "46 is even.\n",
      "47 is not even.\n",
      "48 is even.\n",
      "49 is not even.\n",
      "50 is even.\n",
      "51 is not even.\n",
      "52 is even.\n",
      "53 is not even.\n",
      "54 is even.\n",
      "55 is not even.\n",
      "56 is even.\n",
      "57 is not even.\n",
      "58 is even.\n",
      "59 is not even.\n",
      "60 is even.\n",
      "61 is not even.\n",
      "62 is even.\n",
      "63 is not even.\n",
      "64 is even.\n",
      "65 is not even.\n",
      "66 is even.\n",
      "67 is not even.\n",
      "68 is even.\n",
      "69 is not even.\n",
      "70 is even.\n",
      "71 is not even.\n",
      "72 is even.\n",
      "73 is not even.\n",
      "74 is even.\n",
      "75 is not even.\n",
      "76 is even.\n",
      "77 is not even.\n",
      "78 is even.\n",
      "79 is not even.\n",
      "80 is even.\n",
      "81 is not even.\n",
      "82 is even.\n",
      "83 is not even.\n",
      "84 is even.\n",
      "85 is not even.\n",
      "86 is even.\n",
      "87 is not even.\n",
      "88 is even.\n",
      "89 is not even.\n",
      "90 is even.\n",
      "91 is not even.\n",
      "92 is even.\n",
      "93 is not even.\n",
      "94 is even.\n",
      "95 is not even.\n",
      "96 is even.\n",
      "97 is not even.\n",
      "98 is even.\n",
      "99 is not even.\n",
      "100 is even.\n"
     ]
    }
   ],
   "source": [
    "def is_even(n):\n",
    "    return n % 2\n",
    "for i in range(101):\n",
    "    if is_even(i) == False:\n",
    "        print(f\"{i} is even.\")\n",
    "    else:\n",
    "        print(f\"{i} is not even.\")"
   ]
  },
  {
   "cell_type": "code",
   "execution_count": null,
   "metadata": {},
   "outputs": [],
   "source": []
  }
 ],
 "metadata": {
  "interpreter": {
   "hash": "fb768b9b3ecf961ba38b0c7e836f7f85a23c08c1797458e7c652470f2ae90c9c"
  },
  "kernelspec": {
   "display_name": "Python 3",
   "language": "python",
   "name": "python3"
  },
  "language_info": {
   "codemirror_mode": {
    "name": "ipython",
    "version": 3
   },
   "file_extension": ".py",
   "mimetype": "text/x-python",
   "name": "python",
   "nbconvert_exporter": "python",
   "pygments_lexer": "ipython3",
   "version": "3.13.0"
  }
 },
 "nbformat": 4,
 "nbformat_minor": 2
}
