{
 "cells": [
  {
   "cell_type": "markdown",
   "metadata": {},
   "source": [
    "In this exercise you are going to simulate a sales and operations planning using the zero stock level strategy. Write a Python program that asks the user to enter the following data:\n",
    "\n",
    "An initial stock level for a product\n",
    "The number of month(s) to plan\n",
    "The planned sales quantity for each month\n",
    "Based on this data, calculate the required production quantity as follows:\n",
    "\n",
    "If the sales quantity is smaller than the stock level of the previous month, the production quantity is 0\n",
    "If the sales quantity is larger than the stock level of the previous month, the production quantity is this difference\n",
    "Below is an example execution of the program:\n",
    "\n",
    "Please enter an initial stock level: 500\n",
    "Please enter the number of month to plan: 5\n",
    "Please enter the planned sales quantity: 300\n",
    "Please enter the planned sales quantity: 250\n",
    "Please enter the planned sales quantity: 200\n",
    "Please enter the planned sales quantity: 400\n",
    "Please enter the planned sales quantity: 100\n",
    "The resulting production quantities are:\n",
    "Production quantity month 1 - 0\n",
    "Production quantity month 2 - 50\n",
    "Production quantity month 3 - 200\n",
    "Production quantity month 4 - 400\n",
    "Production quantity month 5 - 100\n",
    "\n",
    "Why are those production quantities calculated? The initial stock level is 500. In the first month 300 pieces are sold. Therefore, nothing needs to be produced and the resulting stock is 200 (= 500 - 300). In the second month 250 pieces are sold. The stock level after the previous month is 200. Therefore 50 pieces need to be produced. The resulting stock level is 0 (= 200 + 50 - 250). In the third month 200 pieces are sold. The stock level after the previous month is 0. Therefore 200 pieces need to be produced. The resulting stock level is 0 (= 200 - 200)."
   ]
  },
  {
   "cell_type": "code",
   "execution_count": 14,
   "metadata": {},
   "outputs": [
    {
     "name": "stdout",
     "output_type": "stream",
     "text": [
      "[300, 250, 200, 400, 100]\n",
      "Production quantity month1 -  0\n",
      "Production quantity month 2 -  50\n",
      "Production quantity month 3 -  200\n",
      "Production quantity month 4 -  400\n",
      "Production quantity month 5 -  100\n"
     ]
    }
   ],
   "source": [
    "stock = int(input(\"Please input the current stock availability: \"))\n",
    "months = int(input(\"Please input the number of months to estimate\"))\n",
    "projected_sales = []\n",
    "for x in range(months):\n",
    "    a = int(input(\"Projected sales month\" + str(x + 1)))\n",
    "    projected_sales.append(a)        \n",
    "print(projected_sales)\n",
    "\n",
    "for i in range(months):\n",
    "    stock = stock - projected_sales[i]\n",
    "    if stock > 0:\n",
    "        print(\"Production quantity month \" + str(i +1) + \" - \", 0)\n",
    "    else:\n",
    "        print(\"Production quantity month \" + str(i +1) + \" - \", stock * -1)\n",
    "        stock = 0\n",
    "    #print(stock)"
   ]
  },
  {
   "cell_type": "code",
   "execution_count": null,
   "metadata": {},
   "outputs": [],
   "source": []
  }
 ],
 "metadata": {
  "kernelspec": {
   "display_name": "Python 3",
   "language": "python",
   "name": "python3"
  },
  "language_info": {
   "codemirror_mode": {
    "name": "ipython",
    "version": 3
   },
   "file_extension": ".py",
   "mimetype": "text/x-python",
   "name": "python",
   "nbconvert_exporter": "python",
   "pygments_lexer": "ipython3",
   "version": "3.13.0"
  }
 },
 "nbformat": 4,
 "nbformat_minor": 2
}
