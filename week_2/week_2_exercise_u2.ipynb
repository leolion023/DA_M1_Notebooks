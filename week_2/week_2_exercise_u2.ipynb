{
 "cells": [
  {
   "cell_type": "markdown",
   "metadata": {},
   "source": [
    "Write a program that lets the user input a two-dimensional matrix (Hint: you could use a list of lists to store the matrix). The program should first ask the user how many rows and columns the matrix should contain. Next, the program should ask the user for the elements of the matrix. Your program should read the values from the user row by row. If, for example, the matrix has the dimension 2 by 3, the values should be read as follows:\n",
    "\n",
    "First row, first value\n",
    "First row, second value\n",
    "First row, third value\n",
    "Second row, first value\n",
    "Second row, second value\n",
    "Second row, third value\n",
    "Finally, the program should calculate and print the sums of the values in each row.\n",
    "\n",
    "Below is an example execution of the program:\n",
    "\n",
    "Please enter the number of rows in the matrix: 2\n",
    "Please enter the number of columns in the matrix: 3\n",
    "Enter the matrix values:\n",
    "Value: 1\n",
    "Value: 2\n",
    "Value: 3\n",
    "Value: 4\n",
    "Value: 5\n",
    "Value: 6\n",
    "Sum of row: 6\n",
    "Sum of row: 15\n"
   ]
  },
  {
   "cell_type": "code",
   "execution_count": 34,
   "metadata": {},
   "outputs": [
    {
     "name": "stdout",
     "output_type": "stream",
     "text": [
      "[[1, 2, 3, 4, 5, 6], [7, 8, 9, 10, 11, 12], [13, 1, 15, 16, 17, 18], [19, 20, 21, 22, 23, 24], [25, 26, 27, 28, 29, 30]]\n",
      "21\n",
      "57\n",
      "80\n",
      "129\n",
      "165\n"
     ]
    }
   ],
   "source": [
    "rows = int(input(\"Please input the number of rows: \"))\n",
    "columns = int(input(\"Please input the number of colums\"))\n",
    "matrix = [[] for i in range(columns-1)]\n",
    "\n",
    "for x in range(rows):\n",
    "    for y in range(columns):\n",
    "        value = int(input(\"Please enter a value for the matrix: \"))\n",
    "        matrix[x].append(value)\n",
    "print(matrix)\n",
    "for i in range(rows):\n",
    "    sum = 0\n",
    "    for j in range(columns):\n",
    "        sum = sum + matrix[i][j]\n",
    "    print(sum)"
   ]
  },
  {
   "cell_type": "code",
   "execution_count": null,
   "metadata": {},
   "outputs": [],
   "source": []
  }
 ],
 "metadata": {
  "kernelspec": {
   "display_name": "Python 3",
   "language": "python",
   "name": "python3"
  },
  "language_info": {
   "codemirror_mode": {
    "name": "ipython",
    "version": 3
   },
   "file_extension": ".py",
   "mimetype": "text/x-python",
   "name": "python",
   "nbconvert_exporter": "python",
   "pygments_lexer": "ipython3",
   "version": "3.13.0"
  }
 },
 "nbformat": 4,
 "nbformat_minor": 2
}
